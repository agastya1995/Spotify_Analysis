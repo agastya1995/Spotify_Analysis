{
 "cells": [
  {
   "cell_type": "code",
   "execution_count": 2,
   "metadata": {
    "colab": {},
    "colab_type": "code",
    "executionInfo": {
     "elapsed": 1882,
     "status": "ok",
     "timestamp": 1594821296557,
     "user": {
      "displayName": "Agastya Bhooshan",
      "photoUrl": "",
      "userId": "11938544833569740626"
     },
     "user_tz": -330
    },
    "id": "onry8vsjP98h"
   },
   "outputs": [],
   "source": [
    "import pandas as pd\n",
    "import numpy as np\n",
    "import pickle"
   ]
  },
  {
   "cell_type": "code",
   "execution_count": 3,
   "metadata": {
    "colab": {},
    "colab_type": "code",
    "executionInfo": {
     "elapsed": 1989,
     "status": "ok",
     "timestamp": 1594821297413,
     "user": {
      "displayName": "Agastya Bhooshan",
      "photoUrl": "",
      "userId": "11938544833569740626"
     },
     "user_tz": -330
    },
    "id": "YG-mvTeBP98t"
   },
   "outputs": [],
   "source": [
    "# df_artists = pd.read_csv(r'/home/agastya/Documents/Python/Praxis/ML/Personal Practice/Spotify_Project/data/data_by_artist.csv', ',')"
   ]
  },
  {
   "cell_type": "code",
   "execution_count": 3,
   "metadata": {
    "colab": {},
    "colab_type": "code",
    "executionInfo": {
     "elapsed": 2874,
     "status": "ok",
     "timestamp": 1594821298834,
     "user": {
      "displayName": "Agastya Bhooshan",
      "photoUrl": "",
      "userId": "11938544833569740626"
     },
     "user_tz": -330
    },
    "id": "HM5T54VZP982"
   },
   "outputs": [],
   "source": [
    "df_genres = pd.read_csv(r'/home/agastya/Documents/Python/Praxis/ML/Personal Practice/Spotify_Project/data/data_by_genres.csv', ',')"
   ]
  },
  {
   "cell_type": "code",
   "execution_count": 4,
   "metadata": {
    "colab": {},
    "colab_type": "code",
    "executionInfo": {
     "elapsed": 2526,
     "status": "ok",
     "timestamp": 1594821303115,
     "user": {
      "displayName": "Agastya Bhooshan",
      "photoUrl": "",
      "userId": "11938544833569740626"
     },
     "user_tz": -330
    },
    "id": "_5Ntx0HZP98-"
   },
   "outputs": [],
   "source": [
    "df_w_genres = pd.read_csv(r'/home/agastya/Documents/Python/Praxis/ML/Personal Practice/Spotify_Project/data/data_w_genres.csv', ',')\n",
    "\n",
    "# Convert genres from string to list \n",
    "import re\n",
    "pattern = re.compile(r'\\w+\\s*?\\w+', re.IGNORECASE)\n",
    "df_w_genres['genres'] = df_w_genres['genres'].map(lambda x: re.findall(pattern, x))\n",
    "\n",
    "# Drop Unnamed column\n",
    "df_w_genres.drop('Unnamed: 0', axis=1, inplace=True)\n",
    "\n",
    "# Change fields of no genres to None\n",
    "df_w_genres['genres'] = df_w_genres['genres'].map(lambda x: np.nan if len(x) == 0 else x)\n"
   ]
  },
  {
   "cell_type": "code",
   "execution_count": 5,
   "metadata": {
    "colab": {},
    "colab_type": "code",
    "executionInfo": {
     "elapsed": 2265,
     "status": "ok",
     "timestamp": 1594821303118,
     "user": {
      "displayName": "Agastya Bhooshan",
      "photoUrl": "",
      "userId": "11938544833569740626"
     },
     "user_tz": -330
    },
    "id": "MsNF62SnP99F"
   },
   "outputs": [],
   "source": [
    "# Remove all songs with speechiness over 0.8\n",
    "df_w_genres = df_w_genres[df_w_genres['speechiness']<0.8]"
   ]
  },
  {
   "cell_type": "code",
   "execution_count": 6,
   "metadata": {
    "colab": {},
    "colab_type": "code",
    "executionInfo": {
     "elapsed": 2103,
     "status": "ok",
     "timestamp": 1594821304677,
     "user": {
      "displayName": "Agastya Bhooshan",
      "photoUrl": "",
      "userId": "11938544833569740626"
     },
     "user_tz": -330
    },
    "id": "aSaacvnUSOhX"
   },
   "outputs": [],
   "source": [
    "# Separate artists with only music (no vocals) to a separate dataset. Drop these from the main set\n",
    "non_vocal_artists = df_w_genres[df_w_genres['instrumentalness']>0.5]\n",
    "vocal_artists = df_w_genres[df_w_genres['instrumentalness']<0.51]"
   ]
  },
  {
   "cell_type": "code",
   "execution_count": 7,
   "metadata": {
    "colab": {},
    "colab_type": "code",
    "executionInfo": {
     "elapsed": 2614,
     "status": "ok",
     "timestamp": 1594821305602,
     "user": {
      "displayName": "Agastya Bhooshan",
      "photoUrl": "",
      "userId": "11938544833569740626"
     },
     "user_tz": -330
    },
    "id": "OYd3gwXZP99e"
   },
   "outputs": [],
   "source": [
    "# Split into artists with genres and artists without genres (these will be the test and train sets)\n",
    "with_genre_vocal_artists = vocal_artists[~vocal_artists['genres'].isna()]\n",
    "no_genre_vocal_artists = vocal_artists[vocal_artists['genres'].isna()]"
   ]
  },
  {
   "cell_type": "code",
   "execution_count": 8,
   "metadata": {
    "colab": {},
    "colab_type": "code",
    "executionInfo": {
     "elapsed": 2089,
     "status": "ok",
     "timestamp": 1594821305606,
     "user": {
      "displayName": "Agastya Bhooshan",
      "photoUrl": "",
      "userId": "11938544833569740626"
     },
     "user_tz": -330
    },
    "id": "WqrHjC0kJtom"
   },
   "outputs": [],
   "source": [
    "# Split into artists with genres and artists without genres (these will be the test and train sets)\n",
    "with_genre_non_vocal_artists = non_vocal_artists[~non_vocal_artists['genres'].isna()]\n",
    "no_genre_non_vocal_artists = non_vocal_artists[non_vocal_artists['genres'].isna()]"
   ]
  },
  {
   "cell_type": "code",
   "execution_count": 9,
   "metadata": {
    "colab": {
     "base_uri": "https://localhost:8080/",
     "height": 34
    },
    "colab_type": "code",
    "executionInfo": {
     "elapsed": 2439,
     "status": "ok",
     "timestamp": 1594821306623,
     "user": {
      "displayName": "Agastya Bhooshan",
      "photoUrl": "",
      "userId": "11938544833569740626"
     },
     "user_tz": -330
    },
    "id": "b-lyFZ9aKa47",
    "outputId": "ae3ea8fc-867f-4f15-e7dc-4190351bd52b"
   },
   "outputs": [
    {
     "data": {
      "text/plain": [
       "((2572, 16), (1875, 16))"
      ]
     },
     "execution_count": 9,
     "metadata": {},
     "output_type": "execute_result"
    }
   ],
   "source": [
    "with_genre_non_vocal_artists.shape, no_genre_non_vocal_artists.shape "
   ]
  },
  {
   "cell_type": "code",
   "execution_count": 10,
   "metadata": {
    "colab": {
     "base_uri": "https://localhost:8080/",
     "height": 34
    },
    "colab_type": "code",
    "executionInfo": {
     "elapsed": 2357,
     "status": "ok",
     "timestamp": 1594821308233,
     "user": {
      "displayName": "Agastya Bhooshan",
      "photoUrl": "",
      "userId": "11938544833569740626"
     },
     "user_tz": -330
    },
    "id": "--P0DFb6Tsdg",
    "outputId": "eab46d17-c94f-4380-bcae-16ff4bf3e680"
   },
   "outputs": [
    {
     "data": {
      "text/plain": [
       "((15440, 16), (7583, 16))"
      ]
     },
     "execution_count": 10,
     "metadata": {},
     "output_type": "execute_result"
    }
   ],
   "source": [
    "with_genre_vocal_artists.shape, no_genre_vocal_artists.shape"
   ]
  },
  {
   "cell_type": "code",
   "execution_count": 12,
   "metadata": {
    "colab": {
     "base_uri": "https://localhost:8080/",
     "height": 36
    },
    "colab_type": "code",
    "executionInfo": {
     "elapsed": 1932,
     "status": "ok",
     "timestamp": 1594821308236,
     "user": {
      "displayName": "Agastya Bhooshan",
      "photoUrl": "",
      "userId": "11938544833569740626"
     },
     "user_tz": -330
    },
    "id": "8IUihdoKh-yo",
    "outputId": "0e8d527b-f612-42b9-e064-27baf2610029"
   },
   "outputs": [
    {
     "data": {
      "text/plain": [
       "'artists'"
      ]
     },
     "execution_count": 12,
     "metadata": {},
     "output_type": "execute_result"
    }
   ],
   "source": [
    "vocal_artists['artists'].name"
   ]
  },
  {
   "cell_type": "code",
   "execution_count": 13,
   "metadata": {
    "colab": {},
    "colab_type": "code",
    "executionInfo": {
     "elapsed": 2334,
     "status": "ok",
     "timestamp": 1594821309262,
     "user": {
      "displayName": "Agastya Bhooshan",
      "photoUrl": "",
      "userId": "11938544833569740626"
     },
     "user_tz": -330
    },
    "id": "puivYt61iQRW"
   },
   "outputs": [],
   "source": [
    "def standardize_tempo(x):\n",
    "  if x.name != 'tempo':\n",
    "    return x\n",
    "  else:\n",
    "    min_tempo = x.min()\n",
    "    max_tempo = x.max()\n",
    "    return (x-min_tempo)/(max_tempo-min_tempo)"
   ]
  },
  {
   "cell_type": "markdown",
   "metadata": {
    "colab_type": "text",
    "id": "Kx3WQJ9F-XnW"
   },
   "source": [
    "# Distance Calculation #\n",
    "### Still need to change the dataframe names inside this ###\n"
   ]
  },
  {
   "cell_type": "code",
   "execution_count": 28,
   "metadata": {
    "colab": {
     "base_uri": "https://localhost:8080/",
     "height": 237
    },
    "colab_type": "code",
    "executionInfo": {
     "elapsed": 1988,
     "status": "error",
     "timestamp": 1594817702267,
     "user": {
      "displayName": "Agastya Bhooshan",
      "photoUrl": "",
      "userId": "11938544833569740626"
     },
     "user_tz": -330
    },
    "id": "GhnBHLI3P995",
    "outputId": "891703c0-2701-49f6-b153-a6d3ee07c3ac"
   },
   "outputs": [
    {
     "ename": "NameError",
     "evalue": "ignored",
     "output_type": "error",
     "traceback": [
      "\u001b[0;31m---------------------------------------------------------------------------\u001b[0m",
      "\u001b[0;31mNameError\u001b[0m                                 Traceback (most recent call last)",
      "\u001b[0;32m<ipython-input-28-b5d6ad75a9c8>\u001b[0m in \u001b[0;36m<module>\u001b[0;34m()\u001b[0m\n\u001b[1;32m      4\u001b[0m \u001b[0mtry_1_genres\u001b[0m\u001b[0;34m[\u001b[0m\u001b[0;34m'tempo'\u001b[0m\u001b[0;34m]\u001b[0m \u001b[0;34m=\u001b[0m \u001b[0mtry_1_genres\u001b[0m\u001b[0;34m.\u001b[0m\u001b[0mapply\u001b[0m\u001b[0;34m(\u001b[0m\u001b[0mstandardize_tempo\u001b[0m\u001b[0;34m)\u001b[0m\u001b[0;34m\u001b[0m\u001b[0;34m\u001b[0m\u001b[0m\n\u001b[1;32m      5\u001b[0m \u001b[0;34m\u001b[0m\u001b[0m\n\u001b[0;32m----> 6\u001b[0;31m \u001b[0mtry_1_artists\u001b[0m \u001b[0;34m=\u001b[0m \u001b[0mno_genre_artists\u001b[0m\u001b[0;34m.\u001b[0m\u001b[0mloc\u001b[0m\u001b[0;34m[\u001b[0m\u001b[0;34m:\u001b[0m\u001b[0;34m,\u001b[0m \u001b[0;34m[\u001b[0m\u001b[0;34m'acousticness'\u001b[0m\u001b[0;34m,\u001b[0m \u001b[0;34m'danceability'\u001b[0m\u001b[0;34m,\u001b[0m \u001b[0;34m'instrumentalness'\u001b[0m\u001b[0;34m,\u001b[0m \u001b[0;34m'tempo'\u001b[0m\u001b[0;34m,\u001b[0m \u001b[0;34m'valence'\u001b[0m\u001b[0;34m]\u001b[0m\u001b[0;34m]\u001b[0m\u001b[0;34m\u001b[0m\u001b[0;34m\u001b[0m\u001b[0m\n\u001b[0m\u001b[1;32m      7\u001b[0m \u001b[0mtry_1_artists\u001b[0m\u001b[0;34m[\u001b[0m\u001b[0;34m'tempo'\u001b[0m\u001b[0;34m]\u001b[0m \u001b[0;34m=\u001b[0m \u001b[0mtry_1_artists\u001b[0m\u001b[0;34m.\u001b[0m\u001b[0mapply\u001b[0m\u001b[0;34m(\u001b[0m\u001b[0mstandardize_tempo\u001b[0m\u001b[0;34m)\u001b[0m\u001b[0;34m\u001b[0m\u001b[0;34m\u001b[0m\u001b[0m\n\u001b[1;32m      8\u001b[0m \u001b[0;34m\u001b[0m\u001b[0m\n",
      "\u001b[0;31mNameError\u001b[0m: name 'no_genre_artists' is not defined"
     ]
    }
   ],
   "source": [
    "# Try 1 - [acousticness, danceability, instrumentalness, tempo, valence]\n",
    "\n",
    "try_1_genres = df_genres.loc[:, ['acousticness', 'danceability', 'instrumentalness', 'tempo', 'valence']]\n",
    "try_1_genres['tempo'] = try_1_genres.apply(standardize_tempo)\n",
    "\n",
    "try_1_artists = no_genre_artists.loc[:, ['acousticness', 'danceability', 'instrumentalness', 'tempo', 'valence']]\n",
    "try_1_artists['tempo'] = try_1_artists.apply(standardize_tempo)\n",
    "\n",
    "try_1_artists = np.array(try_1_artists)\n",
    "try_1_genres = np.array(try_1_genres) "
   ]
  },
  {
   "cell_type": "code",
   "execution_count": null,
   "metadata": {
    "colab": {},
    "colab_type": "code",
    "id": "RWAfZgMmP99_"
   },
   "outputs": [],
   "source": [
    "artist_genre_distance_try_1 = []\n",
    "artist_genre_indexes_try_1 = []\n",
    "\n",
    "for artist_feature in try_1_artists:\n",
    "    distance_vals = []\n",
    "    for genre_feature in try_1_genres:\n",
    "        distance_vals.append(np.linalg.norm(artist_feature-genre_feature))\n",
    "    # Take only top 10\n",
    "    distance_vals = np.array(distance_vals)\n",
    "    \n",
    "    artist_genre_distance_try_1.append(distance_vals[distance_vals.argsort()][:10])\n",
    "    artist_genre_indexes_try_1.append(distance_vals.argsort()[:10])"
   ]
  },
  {
   "cell_type": "code",
   "execution_count": null,
   "metadata": {
    "colab": {},
    "colab_type": "code",
    "id": "0wfLpYSuP9-G",
    "outputId": "14d4ef85-18e8-450a-be39-da74840a7a9a"
   },
   "outputs": [
    {
     "data": {
      "text/plain": [
       "artists             Orchestra Studio 7\n",
       "acousticness                  0.342315\n",
       "danceability                  0.561378\n",
       "duration_ms                     203098\n",
       "energy                        0.392441\n",
       "instrumentalness              0.467496\n",
       "liveness                       0.19049\n",
       "loudness                      -14.3325\n",
       "speechiness                  0.0542639\n",
       "tempo                          116.684\n",
       "valence                       0.532022\n",
       "popularity                   0.0210084\n",
       "key                                  5\n",
       "mode                                 1\n",
       "count                              238\n",
       "genres                             NaN\n",
       "Name: 72, dtype: object"
      ]
     },
     "execution_count": 63,
     "metadata": {
      "tags": []
     },
     "output_type": "execute_result"
    }
   ],
   "source": [
    "no_genre_artists.iloc[0]"
   ]
  },
  {
   "cell_type": "code",
   "execution_count": null,
   "metadata": {
    "colab": {},
    "colab_type": "code",
    "id": "w0nTiTZuP9-N",
    "outputId": "8d6797a9-84aa-4a6c-f61a-5bde2a8b1201"
   },
   "outputs": [
    {
     "data": {
      "text/html": [
       "<div>\n",
       "<style scoped>\n",
       "    .dataframe tbody tr th:only-of-type {\n",
       "        vertical-align: middle;\n",
       "    }\n",
       "\n",
       "    .dataframe tbody tr th {\n",
       "        vertical-align: top;\n",
       "    }\n",
       "\n",
       "    .dataframe thead th {\n",
       "        text-align: right;\n",
       "    }\n",
       "</style>\n",
       "<table border=\"1\" class=\"dataframe\">\n",
       "  <thead>\n",
       "    <tr style=\"text-align: right;\">\n",
       "      <th></th>\n",
       "      <th>genres</th>\n",
       "      <th>acousticness</th>\n",
       "      <th>danceability</th>\n",
       "      <th>duration_ms</th>\n",
       "      <th>energy</th>\n",
       "      <th>instrumentalness</th>\n",
       "      <th>liveness</th>\n",
       "      <th>loudness</th>\n",
       "      <th>speechiness</th>\n",
       "      <th>tempo</th>\n",
       "      <th>valence</th>\n",
       "      <th>popularity</th>\n",
       "      <th>key</th>\n",
       "      <th>mode</th>\n",
       "    </tr>\n",
       "  </thead>\n",
       "  <tbody>\n",
       "    <tr>\n",
       "      <th>2057</th>\n",
       "      <td>rhode island indie</td>\n",
       "      <td>0.248761</td>\n",
       "      <td>0.505667</td>\n",
       "      <td>188386.166667</td>\n",
       "      <td>0.728417</td>\n",
       "      <td>0.439298</td>\n",
       "      <td>0.148358</td>\n",
       "      <td>-8.770500</td>\n",
       "      <td>0.058208</td>\n",
       "      <td>132.339750</td>\n",
       "      <td>0.581667</td>\n",
       "      <td>41.083333</td>\n",
       "      <td>4</td>\n",
       "      <td>1</td>\n",
       "    </tr>\n",
       "    <tr>\n",
       "      <th>331</th>\n",
       "      <td>british industrial</td>\n",
       "      <td>0.260124</td>\n",
       "      <td>0.596156</td>\n",
       "      <td>253703.606803</td>\n",
       "      <td>0.632908</td>\n",
       "      <td>0.501976</td>\n",
       "      <td>0.157053</td>\n",
       "      <td>-13.414348</td>\n",
       "      <td>0.061914</td>\n",
       "      <td>121.039166</td>\n",
       "      <td>0.560386</td>\n",
       "      <td>29.080612</td>\n",
       "      <td>0</td>\n",
       "      <td>1</td>\n",
       "    </tr>\n",
       "    <tr>\n",
       "      <th>231</th>\n",
       "      <td>belgian indie</td>\n",
       "      <td>0.467000</td>\n",
       "      <td>0.564250</td>\n",
       "      <td>286366.500000</td>\n",
       "      <td>0.688750</td>\n",
       "      <td>0.486250</td>\n",
       "      <td>0.100200</td>\n",
       "      <td>-8.171500</td>\n",
       "      <td>0.036225</td>\n",
       "      <td>129.002000</td>\n",
       "      <td>0.506000</td>\n",
       "      <td>46.500000</td>\n",
       "      <td>10</td>\n",
       "      <td>1</td>\n",
       "    </tr>\n",
       "    <tr>\n",
       "      <th>259</th>\n",
       "      <td>bleep techno</td>\n",
       "      <td>0.243382</td>\n",
       "      <td>0.572361</td>\n",
       "      <td>273238.888889</td>\n",
       "      <td>0.736333</td>\n",
       "      <td>0.507456</td>\n",
       "      <td>0.208069</td>\n",
       "      <td>-8.836778</td>\n",
       "      <td>0.069403</td>\n",
       "      <td>130.764778</td>\n",
       "      <td>0.614436</td>\n",
       "      <td>43.555556</td>\n",
       "      <td>11</td>\n",
       "      <td>1</td>\n",
       "    </tr>\n",
       "    <tr>\n",
       "      <th>1605</th>\n",
       "      <td>modern dream pop</td>\n",
       "      <td>0.408820</td>\n",
       "      <td>0.535250</td>\n",
       "      <td>250775.749036</td>\n",
       "      <td>0.596949</td>\n",
       "      <td>0.386814</td>\n",
       "      <td>0.137330</td>\n",
       "      <td>-8.953715</td>\n",
       "      <td>0.037197</td>\n",
       "      <td>124.788873</td>\n",
       "      <td>0.462639</td>\n",
       "      <td>49.222039</td>\n",
       "      <td>2</td>\n",
       "      <td>1</td>\n",
       "    </tr>\n",
       "    <tr>\n",
       "      <th>1240</th>\n",
       "      <td>instrumental soul</td>\n",
       "      <td>0.381695</td>\n",
       "      <td>0.602435</td>\n",
       "      <td>252408.701452</td>\n",
       "      <td>0.539435</td>\n",
       "      <td>0.518661</td>\n",
       "      <td>0.135659</td>\n",
       "      <td>-11.004841</td>\n",
       "      <td>0.047014</td>\n",
       "      <td>115.386640</td>\n",
       "      <td>0.607844</td>\n",
       "      <td>32.983241</td>\n",
       "      <td>10</td>\n",
       "      <td>1</td>\n",
       "    </tr>\n",
       "    <tr>\n",
       "      <th>1865</th>\n",
       "      <td>palm desert scene</td>\n",
       "      <td>0.203318</td>\n",
       "      <td>0.482522</td>\n",
       "      <td>232229.779894</td>\n",
       "      <td>0.737249</td>\n",
       "      <td>0.427242</td>\n",
       "      <td>0.192502</td>\n",
       "      <td>-8.504152</td>\n",
       "      <td>0.056501</td>\n",
       "      <td>126.326448</td>\n",
       "      <td>0.528291</td>\n",
       "      <td>44.356878</td>\n",
       "      <td>9</td>\n",
       "      <td>1</td>\n",
       "    </tr>\n",
       "    <tr>\n",
       "      <th>797</th>\n",
       "      <td>downtempo</td>\n",
       "      <td>0.266034</td>\n",
       "      <td>0.603996</td>\n",
       "      <td>297572.058136</td>\n",
       "      <td>0.579686</td>\n",
       "      <td>0.424080</td>\n",
       "      <td>0.166288</td>\n",
       "      <td>-9.493431</td>\n",
       "      <td>0.066456</td>\n",
       "      <td>118.680109</td>\n",
       "      <td>0.429592</td>\n",
       "      <td>49.203524</td>\n",
       "      <td>7</td>\n",
       "      <td>1</td>\n",
       "    </tr>\n",
       "    <tr>\n",
       "      <th>2206</th>\n",
       "      <td>smooth jazz</td>\n",
       "      <td>0.337245</td>\n",
       "      <td>0.632402</td>\n",
       "      <td>293887.727558</td>\n",
       "      <td>0.539757</td>\n",
       "      <td>0.417892</td>\n",
       "      <td>0.139156</td>\n",
       "      <td>-10.970289</td>\n",
       "      <td>0.040750</td>\n",
       "      <td>112.243773</td>\n",
       "      <td>0.583466</td>\n",
       "      <td>37.752913</td>\n",
       "      <td>5</td>\n",
       "      <td>1</td>\n",
       "    </tr>\n",
       "    <tr>\n",
       "      <th>123</th>\n",
       "      <td>atmospheric post-rock</td>\n",
       "      <td>0.252210</td>\n",
       "      <td>0.668000</td>\n",
       "      <td>331466.500000</td>\n",
       "      <td>0.773500</td>\n",
       "      <td>0.478055</td>\n",
       "      <td>0.144000</td>\n",
       "      <td>-5.724000</td>\n",
       "      <td>0.056000</td>\n",
       "      <td>119.999500</td>\n",
       "      <td>0.483000</td>\n",
       "      <td>23.500000</td>\n",
       "      <td>11</td>\n",
       "      <td>1</td>\n",
       "    </tr>\n",
       "  </tbody>\n",
       "</table>\n",
       "</div>"
      ],
      "text/plain": [
       "                     genres  acousticness  danceability    duration_ms  \\\n",
       "2057     rhode island indie      0.248761      0.505667  188386.166667   \n",
       "331      british industrial      0.260124      0.596156  253703.606803   \n",
       "231           belgian indie      0.467000      0.564250  286366.500000   \n",
       "259            bleep techno      0.243382      0.572361  273238.888889   \n",
       "1605       modern dream pop      0.408820      0.535250  250775.749036   \n",
       "1240      instrumental soul      0.381695      0.602435  252408.701452   \n",
       "1865      palm desert scene      0.203318      0.482522  232229.779894   \n",
       "797               downtempo      0.266034      0.603996  297572.058136   \n",
       "2206            smooth jazz      0.337245      0.632402  293887.727558   \n",
       "123   atmospheric post-rock      0.252210      0.668000  331466.500000   \n",
       "\n",
       "        energy  instrumentalness  liveness   loudness  speechiness  \\\n",
       "2057  0.728417          0.439298  0.148358  -8.770500     0.058208   \n",
       "331   0.632908          0.501976  0.157053 -13.414348     0.061914   \n",
       "231   0.688750          0.486250  0.100200  -8.171500     0.036225   \n",
       "259   0.736333          0.507456  0.208069  -8.836778     0.069403   \n",
       "1605  0.596949          0.386814  0.137330  -8.953715     0.037197   \n",
       "1240  0.539435          0.518661  0.135659 -11.004841     0.047014   \n",
       "1865  0.737249          0.427242  0.192502  -8.504152     0.056501   \n",
       "797   0.579686          0.424080  0.166288  -9.493431     0.066456   \n",
       "2206  0.539757          0.417892  0.139156 -10.970289     0.040750   \n",
       "123   0.773500          0.478055  0.144000  -5.724000     0.056000   \n",
       "\n",
       "           tempo   valence  popularity  key  mode  \n",
       "2057  132.339750  0.581667   41.083333    4     1  \n",
       "331   121.039166  0.560386   29.080612    0     1  \n",
       "231   129.002000  0.506000   46.500000   10     1  \n",
       "259   130.764778  0.614436   43.555556   11     1  \n",
       "1605  124.788873  0.462639   49.222039    2     1  \n",
       "1240  115.386640  0.607844   32.983241   10     1  \n",
       "1865  126.326448  0.528291   44.356878    9     1  \n",
       "797   118.680109  0.429592   49.203524    7     1  \n",
       "2206  112.243773  0.583466   37.752913    5     1  \n",
       "123   119.999500  0.483000   23.500000   11     1  "
      ]
     },
     "execution_count": 64,
     "metadata": {
      "tags": []
     },
     "output_type": "execute_result"
    }
   ],
   "source": [
    "df_genres.iloc[artist_genre_indexes_try_1[0]]"
   ]
  },
  {
   "cell_type": "code",
   "execution_count": null,
   "metadata": {
    "colab": {},
    "colab_type": "code",
    "id": "9jk2C5gtP9-U"
   },
   "outputs": [],
   "source": [
    "# Try 2 - [acousticness, danceability, instrumentalness, tempo,energy, valence, energy]\n",
    "\n",
    "try_2_genres = df_genres.loc[:, ['acousticness', 'danceability', 'instrumentalness', 'energy', 'tempo', 'valence']]\n",
    "try_2_genres['tempo'] = try_2_genres['tempo'].map(standardize_tempo_for_genre)\n",
    "\n",
    "try_2_artists = no_genre_artists.loc[:, ['acousticness', 'danceability', 'instrumentalness', 'energy', 'tempo', 'valence']]\n",
    "try_2_artists['tempo'] = try_2_artists['tempo'].map(standardize_tempo_for_artist)\n",
    "\n",
    "try_2_artists = np.array(try_2_artists)\n",
    "try_2_genres = np.array(try_2_genres) "
   ]
  },
  {
   "cell_type": "code",
   "execution_count": null,
   "metadata": {
    "colab": {},
    "colab_type": "code",
    "id": "xK0jwKJPP9-e"
   },
   "outputs": [],
   "source": [
    "artist_genre_distance_try_2 = []\n",
    "artist_genre_indexes_try_2 = []\n",
    "\n",
    "for artist_feature in try_2_artists:\n",
    "    distance_vals = []\n",
    "    for genre_feature in try_2_genres:\n",
    "        distance_vals.append(np.linalg.norm(artist_feature-genre_feature))\n",
    "    # Take only top 10\n",
    "    distance_vals = np.array(distance_vals)\n",
    "    \n",
    "    artist_genre_distance_try_2.append(distance_vals[distance_vals.argsort()][:10])\n",
    "    artist_genre_indexes_try_2.append(distance_vals.argsort()[:10])"
   ]
  },
  {
   "cell_type": "code",
   "execution_count": null,
   "metadata": {
    "colab": {},
    "colab_type": "code",
    "id": "TmxzCq-hP9-l",
    "outputId": "b1271cfb-dc52-4c1f-92c2-14a324880db7"
   },
   "outputs": [
    {
     "data": {
      "text/html": [
       "<div>\n",
       "<style scoped>\n",
       "    .dataframe tbody tr th:only-of-type {\n",
       "        vertical-align: middle;\n",
       "    }\n",
       "\n",
       "    .dataframe tbody tr th {\n",
       "        vertical-align: top;\n",
       "    }\n",
       "\n",
       "    .dataframe thead th {\n",
       "        text-align: right;\n",
       "    }\n",
       "</style>\n",
       "<table border=\"1\" class=\"dataframe\">\n",
       "  <thead>\n",
       "    <tr style=\"text-align: right;\">\n",
       "      <th></th>\n",
       "      <th>genres</th>\n",
       "      <th>acousticness</th>\n",
       "      <th>danceability</th>\n",
       "      <th>duration_ms</th>\n",
       "      <th>energy</th>\n",
       "      <th>instrumentalness</th>\n",
       "      <th>liveness</th>\n",
       "      <th>loudness</th>\n",
       "      <th>speechiness</th>\n",
       "      <th>tempo</th>\n",
       "      <th>valence</th>\n",
       "      <th>popularity</th>\n",
       "      <th>key</th>\n",
       "      <th>mode</th>\n",
       "    </tr>\n",
       "  </thead>\n",
       "  <tbody>\n",
       "    <tr>\n",
       "      <th>2039</th>\n",
       "      <td>rebetiko</td>\n",
       "      <td>0.959770</td>\n",
       "      <td>0.533861</td>\n",
       "      <td>193814.327377</td>\n",
       "      <td>0.376418</td>\n",
       "      <td>0.336413</td>\n",
       "      <td>0.193219</td>\n",
       "      <td>-11.768717</td>\n",
       "      <td>0.053218</td>\n",
       "      <td>114.612810</td>\n",
       "      <td>0.716307</td>\n",
       "      <td>2.008617</td>\n",
       "      <td>7</td>\n",
       "      <td>1</td>\n",
       "    </tr>\n",
       "    <tr>\n",
       "      <th>2535</th>\n",
       "      <td>vintage old-time</td>\n",
       "      <td>0.968875</td>\n",
       "      <td>0.578806</td>\n",
       "      <td>184259.888889</td>\n",
       "      <td>0.267389</td>\n",
       "      <td>0.304343</td>\n",
       "      <td>0.192260</td>\n",
       "      <td>-12.567111</td>\n",
       "      <td>0.069199</td>\n",
       "      <td>122.886611</td>\n",
       "      <td>0.737694</td>\n",
       "      <td>4.125000</td>\n",
       "      <td>10</td>\n",
       "      <td>1</td>\n",
       "    </tr>\n",
       "    <tr>\n",
       "      <th>1247</th>\n",
       "      <td>irish banjo</td>\n",
       "      <td>0.837333</td>\n",
       "      <td>0.483000</td>\n",
       "      <td>172618.000000</td>\n",
       "      <td>0.601333</td>\n",
       "      <td>0.248893</td>\n",
       "      <td>0.693333</td>\n",
       "      <td>-11.168333</td>\n",
       "      <td>0.167533</td>\n",
       "      <td>128.974333</td>\n",
       "      <td>0.773667</td>\n",
       "      <td>25.666667</td>\n",
       "      <td>2</td>\n",
       "      <td>1</td>\n",
       "    </tr>\n",
       "    <tr>\n",
       "      <th>2541</th>\n",
       "      <td>vintage tango</td>\n",
       "      <td>0.945190</td>\n",
       "      <td>0.564508</td>\n",
       "      <td>177501.059780</td>\n",
       "      <td>0.310706</td>\n",
       "      <td>0.356746</td>\n",
       "      <td>0.243507</td>\n",
       "      <td>-11.680452</td>\n",
       "      <td>0.101448</td>\n",
       "      <td>116.664835</td>\n",
       "      <td>0.643147</td>\n",
       "      <td>4.227987</td>\n",
       "      <td>2</td>\n",
       "      <td>1</td>\n",
       "    </tr>\n",
       "    <tr>\n",
       "      <th>1844</th>\n",
       "      <td>orquesta tipica</td>\n",
       "      <td>0.924137</td>\n",
       "      <td>0.607385</td>\n",
       "      <td>163619.052656</td>\n",
       "      <td>0.321117</td>\n",
       "      <td>0.404575</td>\n",
       "      <td>0.291078</td>\n",
       "      <td>-11.650894</td>\n",
       "      <td>0.122958</td>\n",
       "      <td>133.062939</td>\n",
       "      <td>0.700014</td>\n",
       "      <td>4.205128</td>\n",
       "      <td>9</td>\n",
       "      <td>1</td>\n",
       "    </tr>\n",
       "    <tr>\n",
       "      <th>418</th>\n",
       "      <td>carnatic vocal</td>\n",
       "      <td>0.907121</td>\n",
       "      <td>0.550103</td>\n",
       "      <td>318522.668240</td>\n",
       "      <td>0.388231</td>\n",
       "      <td>0.253515</td>\n",
       "      <td>0.214114</td>\n",
       "      <td>-11.422840</td>\n",
       "      <td>0.091707</td>\n",
       "      <td>113.549147</td>\n",
       "      <td>0.680970</td>\n",
       "      <td>9.106392</td>\n",
       "      <td>10</td>\n",
       "      <td>1</td>\n",
       "    </tr>\n",
       "    <tr>\n",
       "      <th>1079</th>\n",
       "      <td>greek clarinet</td>\n",
       "      <td>0.844585</td>\n",
       "      <td>0.476566</td>\n",
       "      <td>171165.840931</td>\n",
       "      <td>0.522081</td>\n",
       "      <td>0.293887</td>\n",
       "      <td>0.231821</td>\n",
       "      <td>-9.599911</td>\n",
       "      <td>0.067806</td>\n",
       "      <td>110.036666</td>\n",
       "      <td>0.723124</td>\n",
       "      <td>0.000000</td>\n",
       "      <td>2</td>\n",
       "      <td>1</td>\n",
       "    </tr>\n",
       "    <tr>\n",
       "      <th>2534</th>\n",
       "      <td>vintage jazz</td>\n",
       "      <td>0.928986</td>\n",
       "      <td>0.610030</td>\n",
       "      <td>183929.619837</td>\n",
       "      <td>0.317587</td>\n",
       "      <td>0.329331</td>\n",
       "      <td>0.225722</td>\n",
       "      <td>-12.599809</td>\n",
       "      <td>0.076543</td>\n",
       "      <td>120.875787</td>\n",
       "      <td>0.654530</td>\n",
       "      <td>6.689927</td>\n",
       "      <td>5</td>\n",
       "      <td>1</td>\n",
       "    </tr>\n",
       "    <tr>\n",
       "      <th>1084</th>\n",
       "      <td>greek swing</td>\n",
       "      <td>0.978595</td>\n",
       "      <td>0.571524</td>\n",
       "      <td>191273.166667</td>\n",
       "      <td>0.336893</td>\n",
       "      <td>0.254362</td>\n",
       "      <td>0.230271</td>\n",
       "      <td>-13.069369</td>\n",
       "      <td>0.051024</td>\n",
       "      <td>113.645512</td>\n",
       "      <td>0.683095</td>\n",
       "      <td>0.595238</td>\n",
       "      <td>7</td>\n",
       "      <td>1</td>\n",
       "    </tr>\n",
       "    <tr>\n",
       "      <th>517</th>\n",
       "      <td>classic bollywood</td>\n",
       "      <td>0.885505</td>\n",
       "      <td>0.502630</td>\n",
       "      <td>230690.737137</td>\n",
       "      <td>0.354426</td>\n",
       "      <td>0.308211</td>\n",
       "      <td>0.213069</td>\n",
       "      <td>-11.773005</td>\n",
       "      <td>0.097147</td>\n",
       "      <td>109.769526</td>\n",
       "      <td>0.633942</td>\n",
       "      <td>8.191785</td>\n",
       "      <td>7</td>\n",
       "      <td>1</td>\n",
       "    </tr>\n",
       "  </tbody>\n",
       "</table>\n",
       "</div>"
      ],
      "text/plain": [
       "                 genres  acousticness  danceability    duration_ms    energy  \\\n",
       "2039           rebetiko      0.959770      0.533861  193814.327377  0.376418   \n",
       "2535   vintage old-time      0.968875      0.578806  184259.888889  0.267389   \n",
       "1247        irish banjo      0.837333      0.483000  172618.000000  0.601333   \n",
       "2541      vintage tango      0.945190      0.564508  177501.059780  0.310706   \n",
       "1844    orquesta tipica      0.924137      0.607385  163619.052656  0.321117   \n",
       "418      carnatic vocal      0.907121      0.550103  318522.668240  0.388231   \n",
       "1079     greek clarinet      0.844585      0.476566  171165.840931  0.522081   \n",
       "2534       vintage jazz      0.928986      0.610030  183929.619837  0.317587   \n",
       "1084        greek swing      0.978595      0.571524  191273.166667  0.336893   \n",
       "517   classic bollywood      0.885505      0.502630  230690.737137  0.354426   \n",
       "\n",
       "      instrumentalness  liveness   loudness  speechiness       tempo  \\\n",
       "2039          0.336413  0.193219 -11.768717     0.053218  114.612810   \n",
       "2535          0.304343  0.192260 -12.567111     0.069199  122.886611   \n",
       "1247          0.248893  0.693333 -11.168333     0.167533  128.974333   \n",
       "2541          0.356746  0.243507 -11.680452     0.101448  116.664835   \n",
       "1844          0.404575  0.291078 -11.650894     0.122958  133.062939   \n",
       "418           0.253515  0.214114 -11.422840     0.091707  113.549147   \n",
       "1079          0.293887  0.231821  -9.599911     0.067806  110.036666   \n",
       "2534          0.329331  0.225722 -12.599809     0.076543  120.875787   \n",
       "1084          0.254362  0.230271 -13.069369     0.051024  113.645512   \n",
       "517           0.308211  0.213069 -11.773005     0.097147  109.769526   \n",
       "\n",
       "       valence  popularity  key  mode  \n",
       "2039  0.716307    2.008617    7     1  \n",
       "2535  0.737694    4.125000   10     1  \n",
       "1247  0.773667   25.666667    2     1  \n",
       "2541  0.643147    4.227987    2     1  \n",
       "1844  0.700014    4.205128    9     1  \n",
       "418   0.680970    9.106392   10     1  \n",
       "1079  0.723124    0.000000    2     1  \n",
       "2534  0.654530    6.689927    5     1  \n",
       "1084  0.683095    0.595238    7     1  \n",
       "517   0.633942    8.191785    7     1  "
      ]
     },
     "execution_count": 109,
     "metadata": {
      "tags": []
     },
     "output_type": "execute_result"
    }
   ],
   "source": [
    "df_genres.iloc[artist_genre_indexes_try_1[4]]"
   ]
  },
  {
   "cell_type": "code",
   "execution_count": null,
   "metadata": {
    "colab": {},
    "colab_type": "code",
    "id": "rvRSTz_yP9-v",
    "outputId": "7b95f217-6646-4361-aed8-5a0cce1519ba"
   },
   "outputs": [
    {
     "data": {
      "text/html": [
       "<div>\n",
       "<style scoped>\n",
       "    .dataframe tbody tr th:only-of-type {\n",
       "        vertical-align: middle;\n",
       "    }\n",
       "\n",
       "    .dataframe tbody tr th {\n",
       "        vertical-align: top;\n",
       "    }\n",
       "\n",
       "    .dataframe thead th {\n",
       "        text-align: right;\n",
       "    }\n",
       "</style>\n",
       "<table border=\"1\" class=\"dataframe\">\n",
       "  <thead>\n",
       "    <tr style=\"text-align: right;\">\n",
       "      <th></th>\n",
       "      <th>artists</th>\n",
       "      <th>acousticness</th>\n",
       "      <th>danceability</th>\n",
       "      <th>duration_ms</th>\n",
       "      <th>energy</th>\n",
       "      <th>instrumentalness</th>\n",
       "      <th>liveness</th>\n",
       "      <th>loudness</th>\n",
       "      <th>speechiness</th>\n",
       "      <th>tempo</th>\n",
       "      <th>valence</th>\n",
       "      <th>popularity</th>\n",
       "      <th>key</th>\n",
       "      <th>mode</th>\n",
       "      <th>count</th>\n",
       "      <th>genres</th>\n",
       "    </tr>\n",
       "  </thead>\n",
       "  <tbody>\n",
       "    <tr>\n",
       "      <th>0</th>\n",
       "      <td>Francisco Canaro</td>\n",
       "      <td>0.983072</td>\n",
       "      <td>0.654711</td>\n",
       "      <td>177776.513454</td>\n",
       "      <td>0.292622</td>\n",
       "      <td>0.490675</td>\n",
       "      <td>0.201118</td>\n",
       "      <td>-11.733373</td>\n",
       "      <td>0.111007</td>\n",
       "      <td>123.608786</td>\n",
       "      <td>0.746469</td>\n",
       "      <td>0.054257</td>\n",
       "      <td>2</td>\n",
       "      <td>1</td>\n",
       "      <td>2267</td>\n",
       "      <td>[tango, vintage tango]</td>\n",
       "    </tr>\n",
       "  </tbody>\n",
       "</table>\n",
       "</div>"
      ],
      "text/plain": [
       "            artists  acousticness  danceability    duration_ms    energy  \\\n",
       "0  Francisco Canaro      0.983072      0.654711  177776.513454  0.292622   \n",
       "\n",
       "   instrumentalness  liveness   loudness  speechiness       tempo   valence  \\\n",
       "0          0.490675  0.201118 -11.733373     0.111007  123.608786  0.746469   \n",
       "\n",
       "   popularity  key  mode  count                  genres  \n",
       "0    0.054257    2     1   2267  [tango, vintage tango]  "
      ]
     },
     "execution_count": 10,
     "metadata": {
      "tags": []
     },
     "output_type": "execute_result"
    }
   ],
   "source": [
    "df_w_genres.head(1)"
   ]
  },
  {
   "cell_type": "code",
   "execution_count": null,
   "metadata": {
    "colab": {
     "base_uri": "https://localhost:8080/",
     "height": 34
    },
    "colab_type": "code",
    "executionInfo": {
     "elapsed": 726,
     "status": "ok",
     "timestamp": 1594477431034,
     "user": {
      "displayName": "Agastya Bhooshan",
      "photoUrl": "",
      "userId": "11938544833569740626"
     },
     "user_tz": -330
    },
    "id": "5dzrLZlFP9-7",
    "outputId": "a85c0efd-7e73-4bf1-b1a2-79b104d097e0"
   },
   "outputs": [
    {
     "data": {
      "text/plain": [
       "(18056, 16)"
      ]
     },
     "execution_count": 13,
     "metadata": {
      "tags": []
     },
     "output_type": "execute_result"
    }
   ],
   "source": [
    "df_w_genres[~df_w_genres['genres'].isna()].shape"
   ]
  },
  {
   "cell_type": "markdown",
   "metadata": {
    "colab_type": "text",
    "id": "pUSm5kiA-eAF"
   },
   "source": [
    "# Multilabel Classification #\n",
    "**Vocal Artists Only**"
   ]
  },
  {
   "cell_type": "code",
   "execution_count": 14,
   "metadata": {
    "colab": {
     "base_uri": "https://localhost:8080/",
     "height": 121
    },
    "colab_type": "code",
    "executionInfo": {
     "elapsed": 46076,
     "status": "ok",
     "timestamp": 1594821360311,
     "user": {
      "displayName": "Agastya Bhooshan",
      "photoUrl": "",
      "userId": "11938544833569740626"
     },
     "user_tz": -330
    },
    "id": "hUiqs9UwVmKt",
    "outputId": "bb7b6087-1988-480b-b15b-bdeb040c822a"
   },
   "outputs": [
    {
     "name": "stderr",
     "output_type": "stream",
     "text": [
      "/home/agastya/miniconda3/lib/python3.7/site-packages/ipykernel_launcher.py:2: SettingWithCopyWarning: \n",
      "A value is trying to be set on a copy of a slice from a DataFrame.\n",
      "Try using .loc[row_indexer,col_indexer] = value instead\n",
      "\n",
      "See the caveats in the documentation: https://pandas.pydata.org/pandas-docs/stable/user_guide/indexing.html#returning-a-view-versus-a-copy\n",
      "  \n"
     ]
    }
   ],
   "source": [
    "# Converting the list to a string, so that the str.get_dummies can be used\n",
    "with_genre_vocal_artists['genre_string'] = with_genre_vocal_artists['genres'].map(lambda x: ','.join(x))\n",
    "vocal_genre_dummies = with_genre_vocal_artists['genre_string'].str.get_dummies(',')"
   ]
  },
  {
   "cell_type": "code",
   "execution_count": 17,
   "metadata": {
    "colab": {
     "base_uri": "https://localhost:8080/",
     "height": 34
    },
    "colab_type": "code",
    "executionInfo": {
     "elapsed": 43304,
     "status": "ok",
     "timestamp": 1594821360318,
     "user": {
      "displayName": "Agastya Bhooshan",
      "photoUrl": "",
      "userId": "11938544833569740626"
     },
     "user_tz": -330
    },
    "id": "lK7jHKbMHOue",
    "outputId": "984a591d-cfc0-42f2-ca44-1d58b481c36e"
   },
   "outputs": [
    {
     "data": {
      "text/plain": [
       "4.21910621761658"
      ]
     },
     "execution_count": 17,
     "metadata": {},
     "output_type": "execute_result"
    }
   ],
   "source": [
    "vocal_genre_dummies.sum(axis=1).mean()"
   ]
  },
  {
   "cell_type": "code",
   "execution_count": 18,
   "metadata": {
    "colab": {
     "base_uri": "https://localhost:8080/",
     "height": 34
    },
    "colab_type": "code",
    "executionInfo": {
     "elapsed": 42837,
     "status": "ok",
     "timestamp": 1594821360324,
     "user": {
      "displayName": "Agastya Bhooshan",
      "photoUrl": "",
      "userId": "11938544833569740626"
     },
     "user_tz": -330
    },
    "id": "8ueXULaHJaxc",
    "outputId": "6cd7af12-4a7a-401b-a626-c29f35c07aeb"
   },
   "outputs": [
    {
     "data": {
      "text/plain": [
       "(15440, 2402)"
      ]
     },
     "execution_count": 18,
     "metadata": {},
     "output_type": "execute_result"
    }
   ],
   "source": [
    "vocal_genre_dummies.shape # Lost around 200 genres"
   ]
  },
  {
   "cell_type": "code",
   "execution_count": 15,
   "metadata": {
    "colab": {},
    "colab_type": "code",
    "executionInfo": {
     "elapsed": 37784,
     "status": "ok",
     "timestamp": 1594821360328,
     "user": {
      "displayName": "Agastya Bhooshan",
      "photoUrl": "",
      "userId": "11938544833569740626"
     },
     "user_tz": -330
    },
    "id": "rslfpJfSXbSl"
   },
   "outputs": [],
   "source": [
    "vocal_training_df = with_genre_vocal_artists.loc[:, ['acousticness', 'danceability', 'instrumentalness', 'energy', 'tempo', 'valence']]\n",
    "vocal_training_df['tempo'] = vocal_training_df.apply(standardize_tempo)"
   ]
  },
  {
   "cell_type": "code",
   "execution_count": 16,
   "metadata": {
    "colab": {
     "base_uri": "https://localhost:8080/",
     "height": 300
    },
    "colab_type": "code",
    "executionInfo": {
     "elapsed": 1208,
     "status": "ok",
     "timestamp": 1594817725619,
     "user": {
      "displayName": "Agastya Bhooshan",
      "photoUrl": "",
      "userId": "11938544833569740626"
     },
     "user_tz": -330
    },
    "id": "1wGRdNrjLySX",
    "outputId": "f1baca32-1c75-474a-8507-ce6c7a2d83a0"
   },
   "outputs": [
    {
     "data": {
      "text/html": [
       "<div>\n",
       "<style scoped>\n",
       "    .dataframe tbody tr th:only-of-type {\n",
       "        vertical-align: middle;\n",
       "    }\n",
       "\n",
       "    .dataframe tbody tr th {\n",
       "        vertical-align: top;\n",
       "    }\n",
       "\n",
       "    .dataframe thead th {\n",
       "        text-align: right;\n",
       "    }\n",
       "</style>\n",
       "<table border=\"1\" class=\"dataframe\">\n",
       "  <thead>\n",
       "    <tr style=\"text-align: right;\">\n",
       "      <th></th>\n",
       "      <th>acousticness</th>\n",
       "      <th>danceability</th>\n",
       "      <th>instrumentalness</th>\n",
       "      <th>energy</th>\n",
       "      <th>tempo</th>\n",
       "      <th>valence</th>\n",
       "    </tr>\n",
       "  </thead>\n",
       "  <tbody>\n",
       "    <tr>\n",
       "      <th>count</th>\n",
       "      <td>15440.000000</td>\n",
       "      <td>15440.000000</td>\n",
       "      <td>15440.000000</td>\n",
       "      <td>15440.000000</td>\n",
       "      <td>15440.000000</td>\n",
       "      <td>15440.000000</td>\n",
       "    </tr>\n",
       "    <tr>\n",
       "      <th>mean</th>\n",
       "      <td>0.374005</td>\n",
       "      <td>0.577471</td>\n",
       "      <td>0.050872</td>\n",
       "      <td>0.570853</td>\n",
       "      <td>0.374005</td>\n",
       "      <td>0.541240</td>\n",
       "    </tr>\n",
       "    <tr>\n",
       "      <th>std</th>\n",
       "      <td>0.321472</td>\n",
       "      <td>0.156279</td>\n",
       "      <td>0.109634</td>\n",
       "      <td>0.223926</td>\n",
       "      <td>0.321472</td>\n",
       "      <td>0.219956</td>\n",
       "    </tr>\n",
       "    <tr>\n",
       "      <th>min</th>\n",
       "      <td>0.000000</td>\n",
       "      <td>0.000000</td>\n",
       "      <td>0.000000</td>\n",
       "      <td>0.000020</td>\n",
       "      <td>0.000000</td>\n",
       "      <td>0.000000</td>\n",
       "    </tr>\n",
       "    <tr>\n",
       "      <th>25%</th>\n",
       "      <td>0.086237</td>\n",
       "      <td>0.475667</td>\n",
       "      <td>0.000002</td>\n",
       "      <td>0.415500</td>\n",
       "      <td>0.086237</td>\n",
       "      <td>0.382188</td>\n",
       "    </tr>\n",
       "    <tr>\n",
       "      <th>50%</th>\n",
       "      <td>0.281338</td>\n",
       "      <td>0.581639</td>\n",
       "      <td>0.000412</td>\n",
       "      <td>0.595385</td>\n",
       "      <td>0.281338</td>\n",
       "      <td>0.548000</td>\n",
       "    </tr>\n",
       "    <tr>\n",
       "      <th>75%</th>\n",
       "      <td>0.640167</td>\n",
       "      <td>0.689825</td>\n",
       "      <td>0.029507</td>\n",
       "      <td>0.739818</td>\n",
       "      <td>0.640167</td>\n",
       "      <td>0.707727</td>\n",
       "    </tr>\n",
       "    <tr>\n",
       "      <th>max</th>\n",
       "      <td>0.996000</td>\n",
       "      <td>0.986000</td>\n",
       "      <td>0.509475</td>\n",
       "      <td>0.999500</td>\n",
       "      <td>0.996000</td>\n",
       "      <td>0.991000</td>\n",
       "    </tr>\n",
       "  </tbody>\n",
       "</table>\n",
       "</div>"
      ],
      "text/plain": [
       "       acousticness  danceability  instrumentalness        energy  \\\n",
       "count  15440.000000  15440.000000      15440.000000  15440.000000   \n",
       "mean       0.374005      0.577471          0.050872      0.570853   \n",
       "std        0.321472      0.156279          0.109634      0.223926   \n",
       "min        0.000000      0.000000          0.000000      0.000020   \n",
       "25%        0.086237      0.475667          0.000002      0.415500   \n",
       "50%        0.281338      0.581639          0.000412      0.595385   \n",
       "75%        0.640167      0.689825          0.029507      0.739818   \n",
       "max        0.996000      0.986000          0.509475      0.999500   \n",
       "\n",
       "              tempo       valence  \n",
       "count  15440.000000  15440.000000  \n",
       "mean       0.374005      0.541240  \n",
       "std        0.321472      0.219956  \n",
       "min        0.000000      0.000000  \n",
       "25%        0.086237      0.382188  \n",
       "50%        0.281338      0.548000  \n",
       "75%        0.640167      0.707727  \n",
       "max        0.996000      0.991000  "
      ]
     },
     "execution_count": 16,
     "metadata": {},
     "output_type": "execute_result"
    }
   ],
   "source": [
    "vocal_training_df.describe()"
   ]
  },
  {
   "cell_type": "code",
   "execution_count": 17,
   "metadata": {
    "colab": {},
    "colab_type": "code",
    "executionInfo": {
     "elapsed": 34943,
     "status": "ok",
     "timestamp": 1594821360333,
     "user": {
      "displayName": "Agastya Bhooshan",
      "photoUrl": "",
      "userId": "11938544833569740626"
     },
     "user_tz": -330
    },
    "id": "7brNJdS7X4D_"
   },
   "outputs": [],
   "source": [
    "vocal_testing_df = no_genre_vocal_artists.loc[:, ['acousticness', 'danceability', 'instrumentalness', 'energy', 'tempo', 'valence']]\n",
    "vocal_testing_df = vocal_testing_df.apply(standardize_tempo)"
   ]
  },
  {
   "cell_type": "code",
   "execution_count": 18,
   "metadata": {
    "colab": {},
    "colab_type": "code",
    "executionInfo": {
     "elapsed": 35066,
     "status": "ok",
     "timestamp": 1594821361520,
     "user": {
      "displayName": "Agastya Bhooshan",
      "photoUrl": "",
      "userId": "11938544833569740626"
     },
     "user_tz": -330
    },
    "id": "jbVofTEIP-AI"
   },
   "outputs": [],
   "source": [
    "from sklearn.multioutput import MultiOutputClassifier\n",
    "from sklearn.tree import DecisionTreeClassifier\n",
    "from sklearn.ensemble import GradientBoostingClassifier, RandomForestClassifier, AdaBoostClassifier\n",
    "from sklearn.svm import SVC\n",
    "from sklearn.neighbors import KNeighborsClassifier\n",
    "from sklearn.ensemble import BaggingClassifier"
   ]
  },
  {
   "cell_type": "code",
   "execution_count": 19,
   "metadata": {},
   "outputs": [],
   "source": [
    "bag_model = BaggingClassifier(base_estimator=KNeighborsClassifier(3, 'distance'), n_estimators=10)"
   ]
  },
  {
   "cell_type": "code",
   "execution_count": null,
   "metadata": {
    "colab": {},
    "colab_type": "code",
    "id": "IflH8L6KP-AO"
   },
   "outputs": [],
   "source": [
    "adb = MultiOutputClassifier(bag_model, n_jobs=2)\n",
    "adb.fit(vocal_training_df, vocal_genre_dummies)"
   ]
  },
  {
   "cell_type": "code",
   "execution_count": null,
   "metadata": {
    "colab": {},
    "colab_type": "code",
    "id": "z-cvwt9kwVLA"
   },
   "outputs": [],
   "source": [
    "vocal_genre_labels = adb.predict(vocal_testing_df)"
   ]
  },
  {
   "cell_type": "code",
   "execution_count": null,
   "metadata": {
    "colab": {},
    "colab_type": "code",
    "id": "mQlM6aJnolvm"
   },
   "outputs": [],
   "source": [
    "knn = KNeighborsClassifier(3, 'distance')\n",
    "knn.fit(vocal_training_df, vocal_genre_dummies)\n",
    "vocal_genre_labels = knn.predict(vocal_testing_df)"
   ]
  },
  {
   "cell_type": "code",
   "execution_count": null,
   "metadata": {
    "colab": {
     "base_uri": "https://localhost:8080/",
     "height": 34
    },
    "colab_type": "code",
    "executionInfo": {
     "elapsed": 1251,
     "status": "ok",
     "timestamp": 1594754526776,
     "user": {
      "displayName": "Agastya Bhooshan",
      "photoUrl": "",
      "userId": "11938544833569740626"
     },
     "user_tz": -330
    },
    "id": "0LHnmbNZvB4I",
    "outputId": "13801b00-5758-439d-c514-089087177011"
   },
   "outputs": [
    {
     "data": {
      "text/plain": [
       "2.360949208992506"
      ]
     },
     "execution_count": 152,
     "metadata": {
      "tags": []
     },
     "output_type": "execute_result"
    }
   ],
   "source": [
    "vocal_genre_labels.sum(axis=0).mean() # On average, 3 genres for each artist!!"
   ]
  },
  {
   "cell_type": "code",
   "execution_count": null,
   "metadata": {
    "colab": {
     "base_uri": "https://localhost:8080/",
     "height": 34
    },
    "colab_type": "code",
    "executionInfo": {
     "elapsed": 1068,
     "status": "ok",
     "timestamp": 1594754598973,
     "user": {
      "displayName": "Agastya Bhooshan",
      "photoUrl": "",
      "userId": "11938544833569740626"
     },
     "user_tz": -330
    },
    "id": "u42qOx7aAu-Q",
    "outputId": "b785b555-54f9-44ae-ac2b-00a8dc2e275c"
   },
   "outputs": [
    {
     "data": {
      "text/plain": [
       "1536"
      ]
     },
     "execution_count": 153,
     "metadata": {
      "tags": []
     },
     "output_type": "execute_result"
    }
   ],
   "source": [
    "(vocal_genre_labels.sum(axis=0)==0).sum() # 1266 without a genre"
   ]
  },
  {
   "cell_type": "code",
   "execution_count": null,
   "metadata": {
    "colab": {},
    "colab_type": "code",
    "id": "lJSim3pAP-AT"
   },
   "outputs": [],
   "source": [
    "vocal_genre_labels = pd.DataFrame(vocal_genre_labels, columns=vocal_genre_dummies.columns)"
   ]
  },
  {
   "cell_type": "code",
   "execution_count": null,
   "metadata": {
    "colab": {},
    "colab_type": "code",
    "id": "4BRcUIU4-NVU"
   },
   "outputs": [],
   "source": [
    "# Convert the dummy results to a list of genres \n",
    "vocal_stacked_labels = vocal_genre_labels.stack().reset_index()\n",
    "vocal_labels = vocal_stacked_labels[vocal_stacked_labels[0]==1].groupby('level_0').agg(lambda x:[i for i in x])['level_1']"
   ]
  },
  {
   "cell_type": "code",
   "execution_count": null,
   "metadata": {
    "colab": {
     "base_uri": "https://localhost:8080/",
     "height": 119
    },
    "colab_type": "code",
    "executionInfo": {
     "elapsed": 1303,
     "status": "ok",
     "timestamp": 1594754605916,
     "user": {
      "displayName": "Agastya Bhooshan",
      "photoUrl": "",
      "userId": "11938544833569740626"
     },
     "user_tz": -330
    },
    "id": "btNeHZAwBiaE",
    "outputId": "99a021f7-6089-4d17-8e47-3f8f5b2c023b"
   },
   "outputs": [
    {
     "name": "stderr",
     "output_type": "stream",
     "text": [
      "/usr/local/lib/python3.6/dist-packages/ipykernel_launcher.py:1: SettingWithCopyWarning: \n",
      "A value is trying to be set on a copy of a slice from a DataFrame.\n",
      "Try using .loc[row_indexer,col_indexer] = value instead\n",
      "\n",
      "See the caveats in the documentation: https://pandas.pydata.org/pandas-docs/stable/user_guide/indexing.html#returning-a-view-versus-a-copy\n",
      "  \"\"\"Entry point for launching an IPython kernel.\n"
     ]
    }
   ],
   "source": [
    "no_genre_vocal_artists['predicted_genres'] = vocal_labels"
   ]
  },
  {
   "cell_type": "code",
   "execution_count": null,
   "metadata": {
    "colab": {
     "base_uri": "https://localhost:8080/",
     "height": 566
    },
    "colab_type": "code",
    "executionInfo": {
     "elapsed": 880,
     "status": "ok",
     "timestamp": 1594754605918,
     "user": {
      "displayName": "Agastya Bhooshan",
      "photoUrl": "",
      "userId": "11938544833569740626"
     },
     "user_tz": -330
    },
    "id": "Odo2AVSvmrnK",
    "outputId": "a0bff43b-fe41-4f5a-a8ee-9647882171fc"
   },
   "outputs": [
    {
     "data": {
      "text/html": [
       "<div>\n",
       "<style scoped>\n",
       "    .dataframe tbody tr th:only-of-type {\n",
       "        vertical-align: middle;\n",
       "    }\n",
       "\n",
       "    .dataframe tbody tr th {\n",
       "        vertical-align: top;\n",
       "    }\n",
       "\n",
       "    .dataframe thead th {\n",
       "        text-align: right;\n",
       "    }\n",
       "</style>\n",
       "<table border=\"1\" class=\"dataframe\">\n",
       "  <thead>\n",
       "    <tr style=\"text-align: right;\">\n",
       "      <th></th>\n",
       "      <th>artists</th>\n",
       "      <th>acousticness</th>\n",
       "      <th>danceability</th>\n",
       "      <th>duration_ms</th>\n",
       "      <th>energy</th>\n",
       "      <th>instrumentalness</th>\n",
       "      <th>liveness</th>\n",
       "      <th>loudness</th>\n",
       "      <th>speechiness</th>\n",
       "      <th>tempo</th>\n",
       "      <th>valence</th>\n",
       "      <th>popularity</th>\n",
       "      <th>key</th>\n",
       "      <th>mode</th>\n",
       "      <th>count</th>\n",
       "      <th>genres</th>\n",
       "      <th>predicted_genres</th>\n",
       "    </tr>\n",
       "  </thead>\n",
       "  <tbody>\n",
       "    <tr>\n",
       "      <th>72</th>\n",
       "      <td>Orchestra Studio 7</td>\n",
       "      <td>0.342315</td>\n",
       "      <td>0.561378</td>\n",
       "      <td>203097.777311</td>\n",
       "      <td>0.392441</td>\n",
       "      <td>0.467496</td>\n",
       "      <td>0.190490</td>\n",
       "      <td>-14.332546</td>\n",
       "      <td>0.054264</td>\n",
       "      <td>116.684315</td>\n",
       "      <td>0.532022</td>\n",
       "      <td>0.021008</td>\n",
       "      <td>5</td>\n",
       "      <td>1</td>\n",
       "      <td>238</td>\n",
       "      <td>NaN</td>\n",
       "      <td>NaN</td>\n",
       "    </tr>\n",
       "    <tr>\n",
       "      <th>90</th>\n",
       "      <td>Unspecified</td>\n",
       "      <td>0.812928</td>\n",
       "      <td>0.462446</td>\n",
       "      <td>141540.142180</td>\n",
       "      <td>0.344851</td>\n",
       "      <td>0.377778</td>\n",
       "      <td>0.283078</td>\n",
       "      <td>-18.818299</td>\n",
       "      <td>0.154392</td>\n",
       "      <td>110.679294</td>\n",
       "      <td>0.474366</td>\n",
       "      <td>1.241706</td>\n",
       "      <td>10</td>\n",
       "      <td>1</td>\n",
       "      <td>211</td>\n",
       "      <td>NaN</td>\n",
       "      <td>NaN</td>\n",
       "    </tr>\n",
       "    <tr>\n",
       "      <th>124</th>\n",
       "      <td>Orchestra Sinfonica di Roma della RAI</td>\n",
       "      <td>0.968614</td>\n",
       "      <td>0.379123</td>\n",
       "      <td>204830.590643</td>\n",
       "      <td>0.193932</td>\n",
       "      <td>0.046241</td>\n",
       "      <td>0.268602</td>\n",
       "      <td>-16.807421</td>\n",
       "      <td>0.103258</td>\n",
       "      <td>103.132047</td>\n",
       "      <td>0.212032</td>\n",
       "      <td>0.000000</td>\n",
       "      <td>10</td>\n",
       "      <td>1</td>\n",
       "      <td>171</td>\n",
       "      <td>NaN</td>\n",
       "      <td>NaN</td>\n",
       "    </tr>\n",
       "    <tr>\n",
       "      <th>130</th>\n",
       "      <td>Rita Ampatzi</td>\n",
       "      <td>0.953272</td>\n",
       "      <td>0.459373</td>\n",
       "      <td>195420.538462</td>\n",
       "      <td>0.448793</td>\n",
       "      <td>0.331829</td>\n",
       "      <td>0.193202</td>\n",
       "      <td>-9.905633</td>\n",
       "      <td>0.050520</td>\n",
       "      <td>111.843538</td>\n",
       "      <td>0.725680</td>\n",
       "      <td>0.011834</td>\n",
       "      <td>1</td>\n",
       "      <td>1</td>\n",
       "      <td>169</td>\n",
       "      <td>NaN</td>\n",
       "      <td>NaN</td>\n",
       "    </tr>\n",
       "    <tr>\n",
       "      <th>208</th>\n",
       "      <td>Fernando Previtali</td>\n",
       "      <td>0.968500</td>\n",
       "      <td>0.386770</td>\n",
       "      <td>225280.777778</td>\n",
       "      <td>0.184687</td>\n",
       "      <td>0.067349</td>\n",
       "      <td>0.262877</td>\n",
       "      <td>-16.542516</td>\n",
       "      <td>0.093929</td>\n",
       "      <td>99.984683</td>\n",
       "      <td>0.224529</td>\n",
       "      <td>0.055556</td>\n",
       "      <td>0</td>\n",
       "      <td>1</td>\n",
       "      <td>126</td>\n",
       "      <td>NaN</td>\n",
       "      <td>NaN</td>\n",
       "    </tr>\n",
       "    <tr>\n",
       "      <th>228</th>\n",
       "      <td>Paul Weston And His Orchestra</td>\n",
       "      <td>0.912317</td>\n",
       "      <td>0.431842</td>\n",
       "      <td>180588.191667</td>\n",
       "      <td>0.159334</td>\n",
       "      <td>0.022866</td>\n",
       "      <td>0.173768</td>\n",
       "      <td>-14.469000</td>\n",
       "      <td>0.045593</td>\n",
       "      <td>114.793575</td>\n",
       "      <td>0.334843</td>\n",
       "      <td>13.858333</td>\n",
       "      <td>5</td>\n",
       "      <td>1</td>\n",
       "      <td>120</td>\n",
       "      <td>NaN</td>\n",
       "      <td>[radio symphony]</td>\n",
       "    </tr>\n",
       "    <tr>\n",
       "      <th>278</th>\n",
       "      <td>Mario Rossi</td>\n",
       "      <td>0.959269</td>\n",
       "      <td>0.411788</td>\n",
       "      <td>198906.721154</td>\n",
       "      <td>0.198816</td>\n",
       "      <td>0.041771</td>\n",
       "      <td>0.320283</td>\n",
       "      <td>-18.007452</td>\n",
       "      <td>0.150479</td>\n",
       "      <td>111.433923</td>\n",
       "      <td>0.265569</td>\n",
       "      <td>0.000000</td>\n",
       "      <td>10</td>\n",
       "      <td>1</td>\n",
       "      <td>104</td>\n",
       "      <td>NaN</td>\n",
       "      <td>[flamenco guitar]</td>\n",
       "    </tr>\n",
       "    <tr>\n",
       "      <th>318</th>\n",
       "      <td>Klarino</td>\n",
       "      <td>0.951763</td>\n",
       "      <td>0.440784</td>\n",
       "      <td>195460.309278</td>\n",
       "      <td>0.463969</td>\n",
       "      <td>0.357957</td>\n",
       "      <td>0.214277</td>\n",
       "      <td>-9.994660</td>\n",
       "      <td>0.051596</td>\n",
       "      <td>106.235773</td>\n",
       "      <td>0.716866</td>\n",
       "      <td>0.020619</td>\n",
       "      <td>2</td>\n",
       "      <td>1</td>\n",
       "      <td>97</td>\n",
       "      <td>NaN</td>\n",
       "      <td>NaN</td>\n",
       "    </tr>\n",
       "    <tr>\n",
       "      <th>387</th>\n",
       "      <td>Sir Malcolm Sargent</td>\n",
       "      <td>0.925536</td>\n",
       "      <td>0.309265</td>\n",
       "      <td>249466.380952</td>\n",
       "      <td>0.203870</td>\n",
       "      <td>0.322836</td>\n",
       "      <td>0.211481</td>\n",
       "      <td>-18.205810</td>\n",
       "      <td>0.043257</td>\n",
       "      <td>97.416000</td>\n",
       "      <td>0.255356</td>\n",
       "      <td>3.916667</td>\n",
       "      <td>2</td>\n",
       "      <td>1</td>\n",
       "      <td>84</td>\n",
       "      <td>NaN</td>\n",
       "      <td>[folk, folk rock, traditional folk]</td>\n",
       "    </tr>\n",
       "    <tr>\n",
       "      <th>395</th>\n",
       "      <td>Dimitris Arapakis</td>\n",
       "      <td>0.978578</td>\n",
       "      <td>0.378193</td>\n",
       "      <td>189080.915663</td>\n",
       "      <td>0.406458</td>\n",
       "      <td>0.215194</td>\n",
       "      <td>0.219317</td>\n",
       "      <td>-10.078892</td>\n",
       "      <td>0.074053</td>\n",
       "      <td>92.972614</td>\n",
       "      <td>0.467675</td>\n",
       "      <td>0.000000</td>\n",
       "      <td>3</td>\n",
       "      <td>0</td>\n",
       "      <td>83</td>\n",
       "      <td>NaN</td>\n",
       "      <td>[brill building, doo, pop, wop]</td>\n",
       "    </tr>\n",
       "  </tbody>\n",
       "</table>\n",
       "</div>"
      ],
      "text/plain": [
       "                                   artists  ...                     predicted_genres\n",
       "72                      Orchestra Studio 7  ...                                  NaN\n",
       "90                             Unspecified  ...                                  NaN\n",
       "124  Orchestra Sinfonica di Roma della RAI  ...                                  NaN\n",
       "130                           Rita Ampatzi  ...                                  NaN\n",
       "208                     Fernando Previtali  ...                                  NaN\n",
       "228          Paul Weston And His Orchestra  ...                     [radio symphony]\n",
       "278                            Mario Rossi  ...                    [flamenco guitar]\n",
       "318                                Klarino  ...                                  NaN\n",
       "387                    Sir Malcolm Sargent  ...  [folk, folk rock, traditional folk]\n",
       "395                      Dimitris Arapakis  ...      [brill building, doo, pop, wop]\n",
       "\n",
       "[10 rows x 17 columns]"
      ]
     },
     "execution_count": 157,
     "metadata": {
      "tags": []
     },
     "output_type": "execute_result"
    }
   ],
   "source": [
    "no_genre_vocal_artists.head(10)"
   ]
  },
  {
   "cell_type": "code",
   "execution_count": null,
   "metadata": {
    "colab": {},
    "colab_type": "code",
    "id": "KBTOsIfPmwfI"
   },
   "outputs": [],
   "source": [
    "vocal_testing_df"
   ]
  },
  {
   "cell_type": "code",
   "execution_count": null,
   "metadata": {
    "colab": {
     "base_uri": "https://localhost:8080/",
     "height": 306
    },
    "colab_type": "code",
    "executionInfo": {
     "elapsed": 909,
     "status": "ok",
     "timestamp": 1594725079566,
     "user": {
      "displayName": "Agastya Bhooshan",
      "photoUrl": "",
      "userId": "11938544833569740626"
     },
     "user_tz": -330
    },
    "id": "PixMcLsmBslI",
    "outputId": "bb0aed91-745c-4fc9-b677-4b48922bfd3d"
   },
   "outputs": [
    {
     "data": {
      "text/plain": [
       "artists                R. Kelly\n",
       "acousticness           0.263177\n",
       "danceability           0.710147\n",
       "duration_ms              281510\n",
       "energy                 0.515973\n",
       "instrumentalness    0.000322452\n",
       "liveness               0.129537\n",
       "loudness               -7.50453\n",
       "speechiness             0.08106\n",
       "tempo                   110.116\n",
       "valence                0.551371\n",
       "popularity              42.9333\n",
       "key                           1\n",
       "mode                          0\n",
       "count                        75\n",
       "genres                      NaN\n",
       "Name: 452, dtype: object"
      ]
     },
     "execution_count": 48,
     "metadata": {
      "tags": []
     },
     "output_type": "execute_result"
    }
   ],
   "source": [
    "df_w_genres.iloc[452]"
   ]
  },
  {
   "cell_type": "code",
   "execution_count": null,
   "metadata": {
    "colab": {
     "base_uri": "https://localhost:8080/",
     "height": 979
    },
    "colab_type": "code",
    "executionInfo": {
     "elapsed": 938,
     "status": "ok",
     "timestamp": 1594725050155,
     "user": {
      "displayName": "Agastya Bhooshan",
      "photoUrl": "",
      "userId": "11938544833569740626"
     },
     "user_tz": -330
    },
    "id": "WkjiTwhpBpoY",
    "outputId": "863aa30f-3546-4b0b-8b1d-0f4ebf2aac16"
   },
   "outputs": [
    {
     "data": {
      "text/html": [
       "<div>\n",
       "<style scoped>\n",
       "    .dataframe tbody tr th:only-of-type {\n",
       "        vertical-align: middle;\n",
       "    }\n",
       "\n",
       "    .dataframe tbody tr th {\n",
       "        vertical-align: top;\n",
       "    }\n",
       "\n",
       "    .dataframe thead th {\n",
       "        text-align: right;\n",
       "    }\n",
       "</style>\n",
       "<table border=\"1\" class=\"dataframe\">\n",
       "  <thead>\n",
       "    <tr style=\"text-align: right;\">\n",
       "      <th></th>\n",
       "      <th>acousticness</th>\n",
       "      <th>danceability</th>\n",
       "      <th>instrumentalness</th>\n",
       "      <th>energy</th>\n",
       "      <th>tempo</th>\n",
       "      <th>valence</th>\n",
       "      <th>genres</th>\n",
       "    </tr>\n",
       "  </thead>\n",
       "  <tbody>\n",
       "    <tr>\n",
       "      <th>72</th>\n",
       "      <td>0.342315</td>\n",
       "      <td>0.561378</td>\n",
       "      <td>4.674964e-01</td>\n",
       "      <td>0.392441</td>\n",
       "      <td>116.684315</td>\n",
       "      <td>0.532022</td>\n",
       "      <td>NaN</td>\n",
       "    </tr>\n",
       "    <tr>\n",
       "      <th>88</th>\n",
       "      <td>0.691179</td>\n",
       "      <td>0.681108</td>\n",
       "      <td>5.389575e-06</td>\n",
       "      <td>0.208925</td>\n",
       "      <td>106.152203</td>\n",
       "      <td>0.460193</td>\n",
       "      <td>NaN</td>\n",
       "    </tr>\n",
       "    <tr>\n",
       "      <th>90</th>\n",
       "      <td>0.812928</td>\n",
       "      <td>0.462446</td>\n",
       "      <td>3.777778e-01</td>\n",
       "      <td>0.344851</td>\n",
       "      <td>110.679294</td>\n",
       "      <td>0.474366</td>\n",
       "      <td>NaN</td>\n",
       "    </tr>\n",
       "    <tr>\n",
       "      <th>124</th>\n",
       "      <td>0.968614</td>\n",
       "      <td>0.379123</td>\n",
       "      <td>4.624096e-02</td>\n",
       "      <td>0.193932</td>\n",
       "      <td>103.132047</td>\n",
       "      <td>0.212032</td>\n",
       "      <td>[classical]</td>\n",
       "    </tr>\n",
       "    <tr>\n",
       "      <th>130</th>\n",
       "      <td>0.953272</td>\n",
       "      <td>0.459373</td>\n",
       "      <td>3.318291e-01</td>\n",
       "      <td>0.448793</td>\n",
       "      <td>111.843538</td>\n",
       "      <td>0.725680</td>\n",
       "      <td>NaN</td>\n",
       "    </tr>\n",
       "    <tr>\n",
       "      <th>184</th>\n",
       "      <td>0.978504</td>\n",
       "      <td>0.386752</td>\n",
       "      <td>8.133488e-01</td>\n",
       "      <td>0.145130</td>\n",
       "      <td>99.811662</td>\n",
       "      <td>0.240863</td>\n",
       "      <td>[urban contemporary]</td>\n",
       "    </tr>\n",
       "    <tr>\n",
       "      <th>196</th>\n",
       "      <td>0.391992</td>\n",
       "      <td>0.681281</td>\n",
       "      <td>1.276523e-05</td>\n",
       "      <td>0.333461</td>\n",
       "      <td>106.456477</td>\n",
       "      <td>0.523214</td>\n",
       "      <td>[vapor soul]</td>\n",
       "    </tr>\n",
       "    <tr>\n",
       "      <th>208</th>\n",
       "      <td>0.968500</td>\n",
       "      <td>0.386770</td>\n",
       "      <td>6.734909e-02</td>\n",
       "      <td>0.184687</td>\n",
       "      <td>99.984683</td>\n",
       "      <td>0.224529</td>\n",
       "      <td>NaN</td>\n",
       "    </tr>\n",
       "    <tr>\n",
       "      <th>228</th>\n",
       "      <td>0.912317</td>\n",
       "      <td>0.431842</td>\n",
       "      <td>2.286588e-02</td>\n",
       "      <td>0.159334</td>\n",
       "      <td>114.793575</td>\n",
       "      <td>0.334843</td>\n",
       "      <td>NaN</td>\n",
       "    </tr>\n",
       "    <tr>\n",
       "      <th>262</th>\n",
       "      <td>0.214349</td>\n",
       "      <td>0.675266</td>\n",
       "      <td>5.639174e-06</td>\n",
       "      <td>0.338890</td>\n",
       "      <td>101.747486</td>\n",
       "      <td>0.677376</td>\n",
       "      <td>[doo, wop]</td>\n",
       "    </tr>\n",
       "    <tr>\n",
       "      <th>278</th>\n",
       "      <td>0.959269</td>\n",
       "      <td>0.411788</td>\n",
       "      <td>4.177146e-02</td>\n",
       "      <td>0.198816</td>\n",
       "      <td>111.433923</td>\n",
       "      <td>0.265569</td>\n",
       "      <td>NaN</td>\n",
       "    </tr>\n",
       "    <tr>\n",
       "      <th>318</th>\n",
       "      <td>0.951763</td>\n",
       "      <td>0.440784</td>\n",
       "      <td>3.579572e-01</td>\n",
       "      <td>0.463969</td>\n",
       "      <td>106.235773</td>\n",
       "      <td>0.716866</td>\n",
       "      <td>NaN</td>\n",
       "    </tr>\n",
       "    <tr>\n",
       "      <th>329</th>\n",
       "      <td>0.517760</td>\n",
       "      <td>0.698344</td>\n",
       "      <td>0.000000e+00</td>\n",
       "      <td>0.245552</td>\n",
       "      <td>108.925781</td>\n",
       "      <td>0.578531</td>\n",
       "      <td>[traditional folk]</td>\n",
       "    </tr>\n",
       "    <tr>\n",
       "      <th>331</th>\n",
       "      <td>0.988189</td>\n",
       "      <td>0.371789</td>\n",
       "      <td>8.376316e-01</td>\n",
       "      <td>0.148999</td>\n",
       "      <td>95.755495</td>\n",
       "      <td>0.269807</td>\n",
       "      <td>[doo, electropop, wop]</td>\n",
       "    </tr>\n",
       "    <tr>\n",
       "      <th>387</th>\n",
       "      <td>0.925536</td>\n",
       "      <td>0.309265</td>\n",
       "      <td>3.228357e-01</td>\n",
       "      <td>0.203870</td>\n",
       "      <td>97.416000</td>\n",
       "      <td>0.255356</td>\n",
       "      <td>NaN</td>\n",
       "    </tr>\n",
       "    <tr>\n",
       "      <th>395</th>\n",
       "      <td>0.978578</td>\n",
       "      <td>0.378193</td>\n",
       "      <td>2.151938e-01</td>\n",
       "      <td>0.406458</td>\n",
       "      <td>92.972614</td>\n",
       "      <td>0.467675</td>\n",
       "      <td>[lo]</td>\n",
       "    </tr>\n",
       "    <tr>\n",
       "      <th>409</th>\n",
       "      <td>0.518531</td>\n",
       "      <td>0.681556</td>\n",
       "      <td>5.083951e-07</td>\n",
       "      <td>0.286358</td>\n",
       "      <td>106.148802</td>\n",
       "      <td>0.403951</td>\n",
       "      <td>NaN</td>\n",
       "    </tr>\n",
       "    <tr>\n",
       "      <th>425</th>\n",
       "      <td>0.880139</td>\n",
       "      <td>0.486468</td>\n",
       "      <td>2.130961e-01</td>\n",
       "      <td>0.492430</td>\n",
       "      <td>118.194684</td>\n",
       "      <td>0.736696</td>\n",
       "      <td>NaN</td>\n",
       "    </tr>\n",
       "    <tr>\n",
       "      <th>444</th>\n",
       "      <td>0.715908</td>\n",
       "      <td>0.700868</td>\n",
       "      <td>0.000000e+00</td>\n",
       "      <td>0.243513</td>\n",
       "      <td>102.510526</td>\n",
       "      <td>0.698513</td>\n",
       "      <td>[hip hop, hip pop]</td>\n",
       "    </tr>\n",
       "    <tr>\n",
       "      <th>445</th>\n",
       "      <td>0.975500</td>\n",
       "      <td>0.298405</td>\n",
       "      <td>1.202173e-01</td>\n",
       "      <td>0.147305</td>\n",
       "      <td>94.967684</td>\n",
       "      <td>0.187262</td>\n",
       "      <td>[hard bop]</td>\n",
       "    </tr>\n",
       "    <tr>\n",
       "      <th>452</th>\n",
       "      <td>0.263177</td>\n",
       "      <td>0.710147</td>\n",
       "      <td>3.224519e-04</td>\n",
       "      <td>0.515973</td>\n",
       "      <td>110.115800</td>\n",
       "      <td>0.551371</td>\n",
       "      <td>[piedmont blues, traditional folk, vintage jazz]</td>\n",
       "    </tr>\n",
       "    <tr>\n",
       "      <th>453</th>\n",
       "      <td>0.983720</td>\n",
       "      <td>0.442173</td>\n",
       "      <td>3.942092e-01</td>\n",
       "      <td>0.182951</td>\n",
       "      <td>90.045627</td>\n",
       "      <td>0.359388</td>\n",
       "      <td>[jazz, latin jazz]</td>\n",
       "    </tr>\n",
       "    <tr>\n",
       "      <th>457</th>\n",
       "      <td>0.969427</td>\n",
       "      <td>0.541707</td>\n",
       "      <td>1.059524e-01</td>\n",
       "      <td>0.135428</td>\n",
       "      <td>121.800267</td>\n",
       "      <td>0.513013</td>\n",
       "      <td>NaN</td>\n",
       "    </tr>\n",
       "    <tr>\n",
       "      <th>467</th>\n",
       "      <td>0.989288</td>\n",
       "      <td>0.418123</td>\n",
       "      <td>8.635342e-01</td>\n",
       "      <td>0.083819</td>\n",
       "      <td>105.300616</td>\n",
       "      <td>0.238356</td>\n",
       "      <td>[funk, modern funk]</td>\n",
       "    </tr>\n",
       "    <tr>\n",
       "      <th>520</th>\n",
       "      <td>0.895420</td>\n",
       "      <td>0.441841</td>\n",
       "      <td>7.464706e-02</td>\n",
       "      <td>0.272370</td>\n",
       "      <td>104.509986</td>\n",
       "      <td>0.430952</td>\n",
       "      <td>[big band]</td>\n",
       "    </tr>\n",
       "    <tr>\n",
       "      <th>545</th>\n",
       "      <td>0.900894</td>\n",
       "      <td>0.349382</td>\n",
       "      <td>1.352416e-01</td>\n",
       "      <td>0.144753</td>\n",
       "      <td>108.768015</td>\n",
       "      <td>0.200276</td>\n",
       "      <td>[slc indie]</td>\n",
       "    </tr>\n",
       "    <tr>\n",
       "      <th>556</th>\n",
       "      <td>0.940723</td>\n",
       "      <td>0.320472</td>\n",
       "      <td>1.193606e-01</td>\n",
       "      <td>0.061411</td>\n",
       "      <td>97.942846</td>\n",
       "      <td>0.139585</td>\n",
       "      <td>[indian jazz, neo]</td>\n",
       "    </tr>\n",
       "    <tr>\n",
       "      <th>559</th>\n",
       "      <td>0.971923</td>\n",
       "      <td>0.480123</td>\n",
       "      <td>5.364821e-01</td>\n",
       "      <td>0.401754</td>\n",
       "      <td>107.398446</td>\n",
       "      <td>0.681308</td>\n",
       "      <td>[chicago blues]</td>\n",
       "    </tr>\n",
       "    <tr>\n",
       "      <th>564</th>\n",
       "      <td>0.940723</td>\n",
       "      <td>0.320472</td>\n",
       "      <td>1.193606e-01</td>\n",
       "      <td>0.061411</td>\n",
       "      <td>97.942846</td>\n",
       "      <td>0.139585</td>\n",
       "      <td>[blackgaze, guitarra argentina]</td>\n",
       "    </tr>\n",
       "    <tr>\n",
       "      <th>619</th>\n",
       "      <td>0.972639</td>\n",
       "      <td>0.391262</td>\n",
       "      <td>8.110991e-02</td>\n",
       "      <td>0.195834</td>\n",
       "      <td>97.589869</td>\n",
       "      <td>0.220933</td>\n",
       "      <td>NaN</td>\n",
       "    </tr>\n",
       "  </tbody>\n",
       "</table>\n",
       "</div>"
      ],
      "text/plain": [
       "     acousticness  ...                                            genres\n",
       "72       0.342315  ...                                               NaN\n",
       "88       0.691179  ...                                               NaN\n",
       "90       0.812928  ...                                               NaN\n",
       "124      0.968614  ...                                       [classical]\n",
       "130      0.953272  ...                                               NaN\n",
       "184      0.978504  ...                              [urban contemporary]\n",
       "196      0.391992  ...                                      [vapor soul]\n",
       "208      0.968500  ...                                               NaN\n",
       "228      0.912317  ...                                               NaN\n",
       "262      0.214349  ...                                        [doo, wop]\n",
       "278      0.959269  ...                                               NaN\n",
       "318      0.951763  ...                                               NaN\n",
       "329      0.517760  ...                                [traditional folk]\n",
       "331      0.988189  ...                            [doo, electropop, wop]\n",
       "387      0.925536  ...                                               NaN\n",
       "395      0.978578  ...                                              [lo]\n",
       "409      0.518531  ...                                               NaN\n",
       "425      0.880139  ...                                               NaN\n",
       "444      0.715908  ...                                [hip hop, hip pop]\n",
       "445      0.975500  ...                                        [hard bop]\n",
       "452      0.263177  ...  [piedmont blues, traditional folk, vintage jazz]\n",
       "453      0.983720  ...                                [jazz, latin jazz]\n",
       "457      0.969427  ...                                               NaN\n",
       "467      0.989288  ...                               [funk, modern funk]\n",
       "520      0.895420  ...                                        [big band]\n",
       "545      0.900894  ...                                       [slc indie]\n",
       "556      0.940723  ...                                [indian jazz, neo]\n",
       "559      0.971923  ...                                   [chicago blues]\n",
       "564      0.940723  ...                   [blackgaze, guitarra argentina]\n",
       "619      0.972639  ...                                               NaN\n",
       "\n",
       "[30 rows x 7 columns]"
      ]
     },
     "execution_count": 46,
     "metadata": {
      "tags": []
     },
     "output_type": "execute_result"
    }
   ],
   "source": [
    "test_set.head(30)"
   ]
  }
 ],
 "metadata": {
  "colab": {
   "collapsed_sections": [],
   "name": "predicting_genres_Colab.ipynb",
   "provenance": []
  },
  "kernelspec": {
   "display_name": "Python 3.7.6 64-bit ('base': conda)",
   "language": "python",
   "name": "python37664bitbaseconda1a0ee1931d594e9b979da984145b9aa5"
  },
  "language_info": {
   "codemirror_mode": {
    "name": "ipython",
    "version": 3
   },
   "file_extension": ".py",
   "mimetype": "text/x-python",
   "name": "python",
   "nbconvert_exporter": "python",
   "pygments_lexer": "ipython3",
   "version": "3.7.6"
  }
 },
 "nbformat": 4,
 "nbformat_minor": 1
}
